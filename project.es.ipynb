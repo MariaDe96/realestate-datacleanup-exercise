{
  "cells": [
    {
      "attachments": {},
      "cell_type": "markdown",
      "id": "innocent-university",
      "metadata": {},
      "source": [
        "# Limpieza de bienes raíces\n",
        "\n",
        "Este es un conjunto de datos (dataset) reales que fue descargado usando técnicas de web scraping. La data contiene registros de **Fotocasa**, el cual es uno de los sitios más populares de bienes raíces en España. Por favor no hagas esto (web scraping) a no ser que sea para propósitos académicos.\n",
        "\n",
        "El dataset fue descargado hace algunos años por Henry Navarro y en ningún caso se obtuvo beneficio económico de ello.\n",
        "\n",
        "Contiene miles de datos de casas reales publicadas en la web www.fotocasa.com. Tu objetivo es extraer tanta información como sea posible con el conocimiento que tienes hasta ahora de ciencia de datos, por ejemplo ¿cuál es la casa más cara en todo el dataset?\n",
        "\n",
        "Empecemos precisamente con esa pregunta... ¡Buena suerte!"
      ]
    },
    {
      "attachments": {},
      "cell_type": "markdown",
      "id": "multiple-glass",
      "metadata": {},
      "source": [
        "#### Ejercicio 00. Lee el dataset assets/real_estate.csv e intenta visualizar la tabla (★☆☆)"
      ]
    },
    {
      "cell_type": "code",
      "execution_count": 2,
      "id": "frank-heath",
      "metadata": {},
      "outputs": [
        {
          "data": {
            "text/html": [
              "<div>\n",
              "<style scoped>\n",
              "    .dataframe tbody tr th:only-of-type {\n",
              "        vertical-align: middle;\n",
              "    }\n",
              "\n",
              "    .dataframe tbody tr th {\n",
              "        vertical-align: top;\n",
              "    }\n",
              "\n",
              "    .dataframe thead th {\n",
              "        text-align: right;\n",
              "    }\n",
              "</style>\n",
              "<table border=\"1\" class=\"dataframe\">\n",
              "  <thead>\n",
              "    <tr style=\"text-align: right;\">\n",
              "      <th></th>\n",
              "      <th>Unnamed: 0</th>\n",
              "      <th>id_realEstates</th>\n",
              "      <th>isNew</th>\n",
              "      <th>realEstate_name</th>\n",
              "      <th>phone_realEstate</th>\n",
              "      <th>url_inmueble</th>\n",
              "      <th>rooms</th>\n",
              "      <th>bathrooms</th>\n",
              "      <th>surface</th>\n",
              "      <th>price</th>\n",
              "      <th>...</th>\n",
              "      <th>level4Id</th>\n",
              "      <th>level5Id</th>\n",
              "      <th>level6Id</th>\n",
              "      <th>level7Id</th>\n",
              "      <th>level8Id</th>\n",
              "      <th>accuracy</th>\n",
              "      <th>latitude</th>\n",
              "      <th>longitude</th>\n",
              "      <th>zipCode</th>\n",
              "      <th>customZone</th>\n",
              "    </tr>\n",
              "  </thead>\n",
              "  <tbody>\n",
              "    <tr>\n",
              "      <th>0</th>\n",
              "      <td>1</td>\n",
              "      <td>153771986</td>\n",
              "      <td>False</td>\n",
              "      <td>ferrari 57 inmobiliaria</td>\n",
              "      <td>912177526.0</td>\n",
              "      <td>https://www.fotocasa.es/es/comprar/vivienda/ma...</td>\n",
              "      <td>3.0</td>\n",
              "      <td>2.0</td>\n",
              "      <td>103.0</td>\n",
              "      <td>195000</td>\n",
              "      <td>...</td>\n",
              "      <td>0</td>\n",
              "      <td>0</td>\n",
              "      <td>0</td>\n",
              "      <td>0</td>\n",
              "      <td>0</td>\n",
              "      <td>0</td>\n",
              "      <td>40,2948276786438</td>\n",
              "      <td>-3,44402412135624</td>\n",
              "      <td>NaN</td>\n",
              "      <td>NaN</td>\n",
              "    </tr>\n",
              "    <tr>\n",
              "      <th>1</th>\n",
              "      <td>2</td>\n",
              "      <td>153867863</td>\n",
              "      <td>False</td>\n",
              "      <td>tecnocasa fuenlabrada ferrocarril</td>\n",
              "      <td>916358736.0</td>\n",
              "      <td>https://www.fotocasa.es/es/comprar/vivienda/ma...</td>\n",
              "      <td>3.0</td>\n",
              "      <td>1.0</td>\n",
              "      <td>NaN</td>\n",
              "      <td>89000</td>\n",
              "      <td>...</td>\n",
              "      <td>0</td>\n",
              "      <td>0</td>\n",
              "      <td>0</td>\n",
              "      <td>0</td>\n",
              "      <td>0</td>\n",
              "      <td>1</td>\n",
              "      <td>40,28674</td>\n",
              "      <td>-3,79351</td>\n",
              "      <td>NaN</td>\n",
              "      <td>NaN</td>\n",
              "    </tr>\n",
              "    <tr>\n",
              "      <th>2</th>\n",
              "      <td>3</td>\n",
              "      <td>153430440</td>\n",
              "      <td>False</td>\n",
              "      <td>look find boadilla</td>\n",
              "      <td>916350408.0</td>\n",
              "      <td>https://www.fotocasa.es/es/comprar/vivienda/ma...</td>\n",
              "      <td>2.0</td>\n",
              "      <td>2.0</td>\n",
              "      <td>99.0</td>\n",
              "      <td>390000</td>\n",
              "      <td>...</td>\n",
              "      <td>0</td>\n",
              "      <td>0</td>\n",
              "      <td>0</td>\n",
              "      <td>0</td>\n",
              "      <td>0</td>\n",
              "      <td>0</td>\n",
              "      <td>40,4115646786438</td>\n",
              "      <td>-3,90662252135624</td>\n",
              "      <td>NaN</td>\n",
              "      <td>NaN</td>\n",
              "    </tr>\n",
              "    <tr>\n",
              "      <th>3</th>\n",
              "      <td>4</td>\n",
              "      <td>152776331</td>\n",
              "      <td>False</td>\n",
              "      <td>tecnocasa fuenlabrada ferrocarril</td>\n",
              "      <td>916358736.0</td>\n",
              "      <td>https://www.fotocasa.es/es/comprar/vivienda/ma...</td>\n",
              "      <td>3.0</td>\n",
              "      <td>1.0</td>\n",
              "      <td>86.0</td>\n",
              "      <td>89000</td>\n",
              "      <td>...</td>\n",
              "      <td>0</td>\n",
              "      <td>0</td>\n",
              "      <td>0</td>\n",
              "      <td>0</td>\n",
              "      <td>0</td>\n",
              "      <td>0</td>\n",
              "      <td>40,2853785786438</td>\n",
              "      <td>-3,79508142135624</td>\n",
              "      <td>NaN</td>\n",
              "      <td>NaN</td>\n",
              "    </tr>\n",
              "    <tr>\n",
              "      <th>4</th>\n",
              "      <td>5</td>\n",
              "      <td>153180188</td>\n",
              "      <td>False</td>\n",
              "      <td>ferrari 57 inmobiliaria</td>\n",
              "      <td>912177526.0</td>\n",
              "      <td>https://www.fotocasa.es/es/comprar/vivienda/ma...</td>\n",
              "      <td>2.0</td>\n",
              "      <td>2.0</td>\n",
              "      <td>106.0</td>\n",
              "      <td>172000</td>\n",
              "      <td>...</td>\n",
              "      <td>0</td>\n",
              "      <td>0</td>\n",
              "      <td>0</td>\n",
              "      <td>0</td>\n",
              "      <td>0</td>\n",
              "      <td>0</td>\n",
              "      <td>40,2998774864376</td>\n",
              "      <td>-3,45226301356237</td>\n",
              "      <td>NaN</td>\n",
              "      <td>NaN</td>\n",
              "    </tr>\n",
              "    <tr>\n",
              "      <th>...</th>\n",
              "      <td>...</td>\n",
              "      <td>...</td>\n",
              "      <td>...</td>\n",
              "      <td>...</td>\n",
              "      <td>...</td>\n",
              "      <td>...</td>\n",
              "      <td>...</td>\n",
              "      <td>...</td>\n",
              "      <td>...</td>\n",
              "      <td>...</td>\n",
              "      <td>...</td>\n",
              "      <td>...</td>\n",
              "      <td>...</td>\n",
              "      <td>...</td>\n",
              "      <td>...</td>\n",
              "      <td>...</td>\n",
              "      <td>...</td>\n",
              "      <td>...</td>\n",
              "      <td>...</td>\n",
              "      <td>...</td>\n",
              "      <td>...</td>\n",
              "    </tr>\n",
              "    <tr>\n",
              "      <th>15330</th>\n",
              "      <td>15331</td>\n",
              "      <td>153901377</td>\n",
              "      <td>False</td>\n",
              "      <td>infocasa consulting</td>\n",
              "      <td>911360461.0</td>\n",
              "      <td>https://www.fotocasa.es/es/comprar/vivienda/ma...</td>\n",
              "      <td>2.0</td>\n",
              "      <td>1.0</td>\n",
              "      <td>96.0</td>\n",
              "      <td>259470</td>\n",
              "      <td>...</td>\n",
              "      <td>0</td>\n",
              "      <td>0</td>\n",
              "      <td>0</td>\n",
              "      <td>0</td>\n",
              "      <td>0</td>\n",
              "      <td>0</td>\n",
              "      <td>40,45416</td>\n",
              "      <td>-3,70286</td>\n",
              "      <td>NaN</td>\n",
              "      <td>NaN</td>\n",
              "    </tr>\n",
              "    <tr>\n",
              "      <th>15331</th>\n",
              "      <td>15332</td>\n",
              "      <td>150394373</td>\n",
              "      <td>False</td>\n",
              "      <td>inmobiliaria pulpon</td>\n",
              "      <td>912788039.0</td>\n",
              "      <td>https://www.fotocasa.es/es/comprar/vivienda/ma...</td>\n",
              "      <td>3.0</td>\n",
              "      <td>1.0</td>\n",
              "      <td>150.0</td>\n",
              "      <td>165000</td>\n",
              "      <td>...</td>\n",
              "      <td>0</td>\n",
              "      <td>0</td>\n",
              "      <td>0</td>\n",
              "      <td>0</td>\n",
              "      <td>0</td>\n",
              "      <td>0</td>\n",
              "      <td>40,36652</td>\n",
              "      <td>-3,48951</td>\n",
              "      <td>NaN</td>\n",
              "      <td>NaN</td>\n",
              "    </tr>\n",
              "    <tr>\n",
              "      <th>15332</th>\n",
              "      <td>15333</td>\n",
              "      <td>153901397</td>\n",
              "      <td>False</td>\n",
              "      <td>tecnocasa torrelodones</td>\n",
              "      <td>912780348.0</td>\n",
              "      <td>https://www.fotocasa.es/es/comprar/vivienda/ma...</td>\n",
              "      <td>4.0</td>\n",
              "      <td>2.0</td>\n",
              "      <td>175.0</td>\n",
              "      <td>495000</td>\n",
              "      <td>...</td>\n",
              "      <td>0</td>\n",
              "      <td>0</td>\n",
              "      <td>0</td>\n",
              "      <td>0</td>\n",
              "      <td>0</td>\n",
              "      <td>0</td>\n",
              "      <td>40,57444</td>\n",
              "      <td>-3,92124</td>\n",
              "      <td>NaN</td>\n",
              "      <td>NaN</td>\n",
              "    </tr>\n",
              "    <tr>\n",
              "      <th>15333</th>\n",
              "      <td>15334</td>\n",
              "      <td>152607440</td>\n",
              "      <td>False</td>\n",
              "      <td>inmobiliaria pulpon</td>\n",
              "      <td>912788039.0</td>\n",
              "      <td>https://www.fotocasa.es/es/comprar/vivienda/ma...</td>\n",
              "      <td>3.0</td>\n",
              "      <td>2.0</td>\n",
              "      <td>101.0</td>\n",
              "      <td>195000</td>\n",
              "      <td>...</td>\n",
              "      <td>0</td>\n",
              "      <td>0</td>\n",
              "      <td>0</td>\n",
              "      <td>0</td>\n",
              "      <td>0</td>\n",
              "      <td>0</td>\n",
              "      <td>40,36967</td>\n",
              "      <td>-3,48105</td>\n",
              "      <td>NaN</td>\n",
              "      <td>NaN</td>\n",
              "    </tr>\n",
              "    <tr>\n",
              "      <th>15334</th>\n",
              "      <td>15335</td>\n",
              "      <td>153901356</td>\n",
              "      <td>False</td>\n",
              "      <td>infocasa consulting</td>\n",
              "      <td>911360461.0</td>\n",
              "      <td>https://www.fotocasa.es/es/comprar/vivienda/ma...</td>\n",
              "      <td>3.0</td>\n",
              "      <td>2.0</td>\n",
              "      <td>152.0</td>\n",
              "      <td>765000</td>\n",
              "      <td>...</td>\n",
              "      <td>0</td>\n",
              "      <td>0</td>\n",
              "      <td>0</td>\n",
              "      <td>0</td>\n",
              "      <td>0</td>\n",
              "      <td>0</td>\n",
              "      <td>40,45773</td>\n",
              "      <td>-3,69068</td>\n",
              "      <td>NaN</td>\n",
              "      <td>NaN</td>\n",
              "    </tr>\n",
              "  </tbody>\n",
              "</table>\n",
              "<p>15335 rows × 37 columns</p>\n",
              "</div>"
            ],
            "text/plain": [
              "       Unnamed: 0  id_realEstates  isNew                    realEstate_name  \\\n",
              "0               1       153771986  False            ferrari 57 inmobiliaria   \n",
              "1               2       153867863  False  tecnocasa fuenlabrada ferrocarril   \n",
              "2               3       153430440  False                 look find boadilla   \n",
              "3               4       152776331  False  tecnocasa fuenlabrada ferrocarril   \n",
              "4               5       153180188  False            ferrari 57 inmobiliaria   \n",
              "...           ...             ...    ...                                ...   \n",
              "15330       15331       153901377  False                infocasa consulting   \n",
              "15331       15332       150394373  False                inmobiliaria pulpon   \n",
              "15332       15333       153901397  False             tecnocasa torrelodones   \n",
              "15333       15334       152607440  False                inmobiliaria pulpon   \n",
              "15334       15335       153901356  False                infocasa consulting   \n",
              "\n",
              "       phone_realEstate                                       url_inmueble  \\\n",
              "0           912177526.0  https://www.fotocasa.es/es/comprar/vivienda/ma...   \n",
              "1           916358736.0  https://www.fotocasa.es/es/comprar/vivienda/ma...   \n",
              "2           916350408.0  https://www.fotocasa.es/es/comprar/vivienda/ma...   \n",
              "3           916358736.0  https://www.fotocasa.es/es/comprar/vivienda/ma...   \n",
              "4           912177526.0  https://www.fotocasa.es/es/comprar/vivienda/ma...   \n",
              "...                 ...                                                ...   \n",
              "15330       911360461.0  https://www.fotocasa.es/es/comprar/vivienda/ma...   \n",
              "15331       912788039.0  https://www.fotocasa.es/es/comprar/vivienda/ma...   \n",
              "15332       912780348.0  https://www.fotocasa.es/es/comprar/vivienda/ma...   \n",
              "15333       912788039.0  https://www.fotocasa.es/es/comprar/vivienda/ma...   \n",
              "15334       911360461.0  https://www.fotocasa.es/es/comprar/vivienda/ma...   \n",
              "\n",
              "       rooms  bathrooms  surface   price  ... level4Id level5Id level6Id  \\\n",
              "0        3.0        2.0    103.0  195000  ...        0        0        0   \n",
              "1        3.0        1.0      NaN   89000  ...        0        0        0   \n",
              "2        2.0        2.0     99.0  390000  ...        0        0        0   \n",
              "3        3.0        1.0     86.0   89000  ...        0        0        0   \n",
              "4        2.0        2.0    106.0  172000  ...        0        0        0   \n",
              "...      ...        ...      ...     ...  ...      ...      ...      ...   \n",
              "15330    2.0        1.0     96.0  259470  ...        0        0        0   \n",
              "15331    3.0        1.0    150.0  165000  ...        0        0        0   \n",
              "15332    4.0        2.0    175.0  495000  ...        0        0        0   \n",
              "15333    3.0        2.0    101.0  195000  ...        0        0        0   \n",
              "15334    3.0        2.0    152.0  765000  ...        0        0        0   \n",
              "\n",
              "      level7Id level8Id accuracy          latitude          longitude zipCode  \\\n",
              "0            0        0        0  40,2948276786438  -3,44402412135624     NaN   \n",
              "1            0        0        1          40,28674           -3,79351     NaN   \n",
              "2            0        0        0  40,4115646786438  -3,90662252135624     NaN   \n",
              "3            0        0        0  40,2853785786438  -3,79508142135624     NaN   \n",
              "4            0        0        0  40,2998774864376  -3,45226301356237     NaN   \n",
              "...        ...      ...      ...               ...                ...     ...   \n",
              "15330        0        0        0          40,45416           -3,70286     NaN   \n",
              "15331        0        0        0          40,36652           -3,48951     NaN   \n",
              "15332        0        0        0          40,57444           -3,92124     NaN   \n",
              "15333        0        0        0          40,36967           -3,48105     NaN   \n",
              "15334        0        0        0          40,45773           -3,69068     NaN   \n",
              "\n",
              "      customZone  \n",
              "0            NaN  \n",
              "1            NaN  \n",
              "2            NaN  \n",
              "3            NaN  \n",
              "4            NaN  \n",
              "...          ...  \n",
              "15330        NaN  \n",
              "15331        NaN  \n",
              "15332        NaN  \n",
              "15333        NaN  \n",
              "15334        NaN  \n",
              "\n",
              "[15335 rows x 37 columns]"
            ]
          },
          "execution_count": 2,
          "metadata": {},
          "output_type": "execute_result"
        }
      ],
      "source": [
        "import pandas as pd\n",
        "\n",
        "# Este archivo CSV contiene puntos y comas en lugar de comas como separadores\n",
        "ds = pd.read_csv('assets/real_estate.csv', sep=';')\n",
        "ds"
      ]
    },
    {
      "attachments": {},
      "cell_type": "markdown",
      "id": "latin-guest",
      "metadata": {},
      "source": [
        "#### Ejercicio 01. ¿Cuál es la casa más cara en todo el dataset? (★☆☆)\n",
        "\n",
        "Imprime la dirección y el precio de la casa seleccionada. Por ejemplo:\n",
        "\n",
        "`La casa con dirección en Calle del Prado, Nº20 es la más cara y su precio es de 5000000 USD`"
      ]
    },
    {
      "cell_type": "code",
      "execution_count": 3,
      "id": "developing-optimum",
      "metadata": {},
      "outputs": [
        {
          "name": "stdout",
          "output_type": "stream",
          "text": [
            "8500000 El Escorial\n"
          ]
        }
      ],
      "source": [
        "ds = pd.read_csv('assets/real_estate.csv', sep=';')\n",
        "house_expensive = ds.price.max()\n",
        "direction_house_expensive = ds.address[ds[ds[\"price\"]== house_expensive].index[0]]\n",
        "print(house_expensive, direction_house_expensive)"
      ]
    },
    {
      "attachments": {},
      "cell_type": "markdown",
      "id": "lesser-cosmetic",
      "metadata": {},
      "source": [
        "#### Ejercicio 02. ¿Cuál es la casa más barata del dataset? (★☆☆)\n",
        "\n",
        "Imprime la dirección y el precio de la casa seleccionada. Por ejemplo:\n",
        "\n",
        "`La casa con dirección en Calle Alcalá, Nº58 es la más barata y su precio es de 12000 USD`"
      ]
    },
    {
      "cell_type": "code",
      "execution_count": 4,
      "id": "lovely-oasis",
      "metadata": {},
      "outputs": [
        {
          "name": "stdout",
          "output_type": "stream",
          "text": [
            "600 Berlin, Coslada\n"
          ]
        }
      ],
      "source": [
        "filter_price = ds.price[(ds.price != 0)]\n",
        "house_cheap = filter_price.min()\n",
        "direction_house_cheap = ds.address[ds[ds[\"price\"] == house_cheap].index[0]]\n",
        "print(house_cheap, direction_house_cheap)"
      ]
    },
    {
      "attachments": {},
      "cell_type": "markdown",
      "id": "compliant-fellowship",
      "metadata": {},
      "source": [
        "#### Ejercicio 03. ¿Cuál es la casa más grande y la más pequeña del dataset? (★☆☆)\n",
        "\n",
        "Imprime la dirección y el área de las casas seleccionadas. Por ejemplo:\n",
        "\n",
        "`La casa más grande está ubicada en Calle Gran Vía, Nº38 y su superficie es de 5000 metros`\n",
        "\n",
        "`La casa más pequeña está ubicada en Calle Mayor, Nº12 y su superficie es de 200 metros`"
      ]
    },
    {
      "cell_type": "code",
      "execution_count": 5,
      "id": "every-tiffany",
      "metadata": {},
      "outputs": [
        {
          "name": "stdout",
          "output_type": "stream",
          "text": [
            "249000.0 Sevilla la Nueva\n",
            "15.0 Calle Amparo,  Madrid Capital\n"
          ]
        }
      ],
      "source": [
        "house_big = ds[\"surface\"].max()\n",
        "house_small = ds[\"surface\"].min()\n",
        "direction_house_big= ds.address[ds[ds[\"surface\"]== house_big].index[0]]\n",
        "direction_house_small= ds.address[ds[ds[\"surface\"] == house_small].index[0]]\n",
        "print(house_big, direction_house_big)\n",
        "print(house_small, direction_house_small)"
      ]
    },
    {
      "attachments": {},
      "cell_type": "markdown",
      "id": "danish-spirit",
      "metadata": {},
      "source": [
        "#### Ejercicio 04. ¿Cuantas poblaciones (columna level5) contiene el dataset? (★☆☆)\n",
        "\n",
        "Imprime el nombre de las poblaciones separadas por coma. Por ejemplo:\n",
        "\n",
        "`> print(populations)`\n",
        "\n",
        "`population1, population2, population3, ...`"
      ]
    },
    {
      "cell_type": "code",
      "execution_count": 6,
      "id": "exciting-accreditation",
      "metadata": {},
      "outputs": [
        {
          "name": "stdout",
          "output_type": "stream",
          "text": [
            "['Arganda del Rey' 'Fuenlabrada' 'Boadilla del Monte'\n",
            " 'Las Rozas de Madrid' ' Madrid Capital' 'Villaviciosa de Odón' 'Pinto'\n",
            " 'Valdemoro' 'Navalcarnero' 'Pozuelo de Alarcón' 'Torrejón de Ardoz'\n",
            " 'Navalagamella' 'San Sebastián de los Reyes' 'Rivas-vaciamadrid'\n",
            " 'Alpedrete' 'Móstoles' 'San Fernando de Henares' 'Coslada'\n",
            " 'Becerril de la Sierra' 'Alcalá de Henares' 'Chinchón' 'Parla' 'Alcorcón'\n",
            " 'El Escorial' 'Leganés' 'Pedrezuela' 'Majadahonda'\n",
            " 'Villanueva de la Cañada' 'Villanueva del Pardillo' 'Torrelodones'\n",
            " 'Moralzarzal' 'Mejorada del Campo' 'Aranjuez' 'Corpa' 'Getafe'\n",
            " 'Velilla de San Antonio' 'Sevilla la Nueva' 'San Martín de la Vega'\n",
            " 'Villalbilla' 'Collado Villalba' 'Alcobendas' 'El Molar (Madrid)'\n",
            " 'Moraleja de Enmedio' 'Algete' 'Campo Real' 'Torrejón de la Calzada'\n",
            " 'Colmenar Viejo' 'Valdemorillo' 'Fuente El Saz de Jarama' 'Tres Cantos'\n",
            " 'Arroyomolinos (Madrid)' 'Griñón' 'Paracuellos de Jarama' 'Guadarrama'\n",
            " 'Titulcia' 'Galapagar' 'Collado Mediano' 'Los Molinos'\n",
            " 'San Lorenzo de El Escorial' 'Loeches' 'San Martín de Valdeiglesias'\n",
            " 'Navas del Rey' 'Bustarviejo' 'Manzanares El Real' 'Carabaña'\n",
            " 'Casarrubuelos' 'Cercedilla' 'Fresnedillas de la Oliva' 'Valdemaqueda'\n",
            " 'Robledo de Chavela' 'Miraflores de la Sierra' 'Humanes de Madrid'\n",
            " 'Valdetorres de Jarama' 'San Agustín del Guadalix' 'Ciempozuelos'\n",
            " 'Camarma de Esteruelas' 'Torres de la Alameda' 'Talamanca de Jarama'\n",
            " 'El Atazar' 'Hoyo de Manzanares' 'El Boalo - Cerceda – Mataelpino'\n",
            " 'El Álamo' 'Valdilecha' 'Valdeolmos-Alalpardo' 'Guadalix de la Sierra'\n",
            " 'Belmonte de Tajo' 'El Vellón' 'Brunete' 'Redueña' 'Morata de Tajuña'\n",
            " 'Tielmes' 'Gargantilla del Lozoya' 'Meco' 'Venturada' 'Quijorna'\n",
            " 'Cenicientos' 'Torrejón de Velasco' 'Navacerrada'\n",
            " 'Santa María de la Alameda' 'Orusco de Tajuña' 'Daganzo de Arriba'\n",
            " 'Villamanta' 'Anchuelo' 'Valdaracete' 'Ajalvir' 'Los Santos de la Humosa'\n",
            " 'Villamanrique de Tajo' 'Colmenar de Oreja' 'Villa del Prado'\n",
            " 'Fuentidueña de Tajo' 'Colmenar del Arroyo' 'Valdelaguna'\n",
            " 'Cubas de la Sagra' 'Valdeavero' 'Aldea del Fresno' 'Ribatejada'\n",
            " 'Torrelaguna' 'Batres' 'Pezuela de las Torres' 'Colmenarejo'\n",
            " 'Serranillos del Valle' 'Cobeña' 'Soto del Real' 'El Berrueco'\n",
            " 'Villanueva de Perales' 'Fresno de Torote - Serracines' 'Pozuelo del Rey'\n",
            " 'Pelayos de la Presa' 'La Cabrera' 'Nuevo Baztán' 'Perales de Tajuña'\n",
            " 'Villaconejos' 'Villarejo de Salvanés' 'Cadalso de los Vidrios'\n",
            " 'Santorcaz' 'Madarcos' 'Garganta de los Montes' 'Puentes Viejas'\n",
            " 'Torremocha de Jarama' 'Valdemanco' 'Braojos'\n",
            " 'Lozoyuela-navas-sieteiglesias' 'Piñuécar-gandullas' 'Valdepiélagos'\n",
            " 'Valverde de Alcalá' 'Villar del Olmo' 'Villamantilla'\n",
            " 'Horcajo de la Sierra' 'Gascones' 'Zarzalejo' 'Villavieja del Lozoya'\n",
            " 'Brea de Tajo' 'Estremera' 'Chapinería' 'Navarredonda' 'Patones' 'Ambite'\n",
            " 'Navalafuente' 'Lozoya' 'Canencia' 'Cabanillas de la Sierra'\n",
            " 'Buitrago del Lozoya' 'Fresno de Torote' 'Robregordo' 'Pinilla del Valle'\n",
            " 'Rascafría' 'La Hiruela' 'Montejo de la Sierra']\n",
            "168\n"
          ]
        }
      ],
      "source": [
        "poblation = ds.level5.unique()\n",
        "print(poblation)\n",
        "long_poblation = len(poblation)\n",
        "print(long_poblation)"
      ]
    },
    {
      "attachments": {},
      "cell_type": "markdown",
      "id": "crazy-blame",
      "metadata": {},
      "source": [
        "#### Ejercicio 05. ¿El dataset contiene valores no admitidos (NAs)? (★☆☆)\n",
        "\n",
        "Imprima un booleano (`True` o `False`) seguido de la fila/columna que contiene el NAs."
      ]
    },
    {
      "cell_type": "code",
      "execution_count": 7,
      "id": "transparent-poetry",
      "metadata": {},
      "outputs": [
        {
          "name": "stdout",
          "output_type": "stream",
          "text": [
            "       Unnamed: 0  id_realEstates  isNew  realEstate_name  phone_realEstate  \\\n",
            "0           False           False  False            False             False   \n",
            "1           False           False  False            False             False   \n",
            "2           False           False  False            False             False   \n",
            "3           False           False  False            False             False   \n",
            "4           False           False  False            False             False   \n",
            "...           ...             ...    ...              ...               ...   \n",
            "15330       False           False  False            False             False   \n",
            "15331       False           False  False            False             False   \n",
            "15332       False           False  False            False             False   \n",
            "15333       False           False  False            False             False   \n",
            "15334       False           False  False            False             False   \n",
            "\n",
            "       url_inmueble  rooms  bathrooms  surface  price  ...  level4Id  \\\n",
            "0             False  False      False    False  False  ...     False   \n",
            "1             False  False      False     True  False  ...     False   \n",
            "2             False  False      False    False  False  ...     False   \n",
            "3             False  False      False    False  False  ...     False   \n",
            "4             False  False      False    False  False  ...     False   \n",
            "...             ...    ...        ...      ...    ...  ...       ...   \n",
            "15330         False  False      False    False  False  ...     False   \n",
            "15331         False  False      False    False  False  ...     False   \n",
            "15332         False  False      False    False  False  ...     False   \n",
            "15333         False  False      False    False  False  ...     False   \n",
            "15334         False  False      False    False  False  ...     False   \n",
            "\n",
            "       level5Id  level6Id  level7Id  level8Id  accuracy  latitude  longitude  \\\n",
            "0         False     False     False     False     False     False      False   \n",
            "1         False     False     False     False     False     False      False   \n",
            "2         False     False     False     False     False     False      False   \n",
            "3         False     False     False     False     False     False      False   \n",
            "4         False     False     False     False     False     False      False   \n",
            "...         ...       ...       ...       ...       ...       ...        ...   \n",
            "15330     False     False     False     False     False     False      False   \n",
            "15331     False     False     False     False     False     False      False   \n",
            "15332     False     False     False     False     False     False      False   \n",
            "15333     False     False     False     False     False     False      False   \n",
            "15334     False     False     False     False     False     False      False   \n",
            "\n",
            "       zipCode  customZone  \n",
            "0         True        True  \n",
            "1         True        True  \n",
            "2         True        True  \n",
            "3         True        True  \n",
            "4         True        True  \n",
            "...        ...         ...  \n",
            "15330     True        True  \n",
            "15331     True        True  \n",
            "15332     True        True  \n",
            "15333     True        True  \n",
            "15334     True        True  \n",
            "\n",
            "[15335 rows x 37 columns]\n",
            "                         realEstate_name  phone_realEstate  rooms  bathrooms  \\\n",
            "0                ferrari 57 inmobiliaria       912177526.0    3.0        2.0   \n",
            "1      tecnocasa fuenlabrada ferrocarril       916358736.0    3.0        1.0   \n",
            "2                     look find boadilla       916350408.0    2.0        2.0   \n",
            "3      tecnocasa fuenlabrada ferrocarril       916358736.0    3.0        1.0   \n",
            "4                ferrari 57 inmobiliaria       912177526.0    2.0        2.0   \n",
            "...                                  ...               ...    ...        ...   \n",
            "15330                infocasa consulting       911360461.0    2.0        1.0   \n",
            "15331                inmobiliaria pulpon       912788039.0    3.0        1.0   \n",
            "15332             tecnocasa torrelodones       912780348.0    4.0        2.0   \n",
            "15333                inmobiliaria pulpon       912788039.0    3.0        2.0   \n",
            "15334                infocasa consulting       911360461.0    3.0        2.0   \n",
            "\n",
            "       surface                                        description  \\\n",
            "0        103.0  Ponemos a la venta piso de 3 dormitorios con t...   \n",
            "1          NaN  \"\"Agencia inmobiliaria de FUENLABRADA - zona F...   \n",
            "2         99.0  Lookandfind Boadilla, vende en exclusiva, piso...   \n",
            "3         86.0  Agencia inmobiliaria de FUENLABRADA - zona Fue...   \n",
            "4        106.0  PISOS DE OBRA NUEVA DE 2 Y 3 DORMITORIOS. OBRA...   \n",
            "...        ...                                                ...   \n",
            "15330     96.0  ¡¡¡IDEAL PROFESIONALES E INVERSORES¡¡¡ \\nINFOC...   \n",
            "15331    150.0  Planta baja con cocinas, una de ellos posibili...   \n",
            "15332    175.0                                                NaN   \n",
            "15333    101.0  Piso de 3 dormitorios con armarios empotrados,...   \n",
            "15334    152.0  INFOCASA vende este bonito piso reformado con ...   \n",
            "\n",
            "                                level4 level6         level7  \\\n",
            "0             Arganda del Rey, Zona de    NaN        Perlita   \n",
            "1                 Fuenlabrada, Zona de    NaN         Centro   \n",
            "2          Boadilla del Monte, Zona de    NaN       Sector B   \n",
            "3                 Fuenlabrada, Zona de    NaN         Centro   \n",
            "4             Arganda del Rey, Zona de    NaN         Centro   \n",
            "...                                ...    ...            ...   \n",
            "15330                              NaN    NaN         Tetuán   \n",
            "15331  Velilla de San Antonio, Zona de    NaN            NaN   \n",
            "15332            Torrelodones, Zona de    NaN  Casco Antiguo   \n",
            "15333  Velilla de San Antonio, Zona de    NaN            NaN   \n",
            "15334                              NaN    NaN         Tetuán   \n",
            "\n",
            "                    level8  zipCode  customZone  \n",
            "0                      NaN      NaN         NaN  \n",
            "1                      NaN      NaN         NaN  \n",
            "2                      NaN      NaN         NaN  \n",
            "3                      NaN      NaN         NaN  \n",
            "4                      NaN      NaN         NaN  \n",
            "...                    ...      ...         ...  \n",
            "15330           Berruguete      NaN         NaN  \n",
            "15331                  NaN      NaN         NaN  \n",
            "15332                  NaN      NaN         NaN  \n",
            "15333                  NaN      NaN         NaN  \n",
            "15334  Castillejos - Cuzco      NaN         NaN  \n",
            "\n",
            "[15335 rows x 12 columns]\n",
            "realEstate_name        10\n",
            "phone_realEstate      794\n",
            "rooms                 353\n",
            "bathrooms             345\n",
            "surface              1250\n",
            "description           142\n",
            "level4               6643\n",
            "level6              14627\n",
            "level7               2277\n",
            "level8               8579\n",
            "zipCode             15335\n",
            "customZone          15335\n",
            "dtype: int64\n"
          ]
        }
      ],
      "source": [
        "value_null = ds.isnull()\n",
        "print(value_null)\n",
        "\n",
        "colum_file_null = ds.loc[: , ds.isnull().any()]\n",
        "print(colum_file_null)\n",
        "\n",
        "columnas = value_null.sum()[value_null.sum() > 0]\n",
        "print(columnas)"
      ]
    },
    {
      "attachments": {},
      "cell_type": "markdown",
      "id": "italic-hydrogen",
      "metadata": {},
      "source": [
        "#### Ejercicio 06. Elimina los NAs del dataset, si aplica (★★☆)\n",
        "\n",
        "Imprima una comparación entre las dimensiones del DataFrame original versus el DataFrame después de las eliminaciones.\n"
      ]
    },
    {
      "cell_type": "code",
      "execution_count": 8,
      "id": "administrative-roads",
      "metadata": {},
      "outputs": [
        {
          "name": "stdout",
          "output_type": "stream",
          "text": [
            "Empty DataFrame\n",
            "Columns: [Unnamed: 0, id_realEstates, isNew, realEstate_name, phone_realEstate, url_inmueble, rooms, bathrooms, surface, price, date, description, address, country, level1, level2, level3, level4, level5, level6, level7, level8, upperLevel, countryId, level1Id, level2Id, level3Id, level4Id, level5Id, level6Id, level7Id, level8Id, accuracy, latitude, longitude, zipCode, customZone]\n",
            "Index: []\n",
            "\n",
            "[0 rows x 37 columns]\n"
          ]
        }
      ],
      "source": [
        "filter_ds = ds.dropna()\n",
        "print(filter_ds)"
      ]
    },
    {
      "attachments": {},
      "cell_type": "markdown",
      "id": "middle-china",
      "metadata": {},
      "source": [
        "#### Ejercicio 07. ¿Cuál la media de precios en la población (columna level5) de \"Arroyomolinos (Madrid)\"? (★★☆)\n",
        "\n",
        "Imprima el valor obtenido."
      ]
    },
    {
      "cell_type": "code",
      "execution_count": 9,
      "id": "nuclear-belief",
      "metadata": {},
      "outputs": [
        {
          "name": "stdout",
          "output_type": "stream",
          "text": [
            "294541\n"
          ]
        }
      ],
      "source": [
        "media_arroyo = int(ds.price[ds[\"level5\"] == \"Arroyomolinos (Madrid)\"].mean())\n",
        "print(media_arroyo)"
      ]
    },
    {
      "attachments": {},
      "cell_type": "markdown",
      "id": "concerned-radical",
      "metadata": {},
      "source": [
        "#### Ejercicio 08. Trazar el histograma de los precios para la población (level5 column) de \"Arroyomolinos (Madrid)\" y explica qué observas (★★☆)\n",
        "\n",
        "Imprime el histograma de los precios y escribe en la celda del Markdown un breve análisis del trazado.\n"
      ]
    },
    {
      "cell_type": "code",
      "execution_count": 10,
      "id": "sudden-message",
      "metadata": {},
      "outputs": [
        {
          "data": {
            "image/png": "[encoded data removed]",
            "text/plain": [
              "<Figure size 640x480 with 1 Axes>"
            ]
          },
          "metadata": {},
          "output_type": "display_data"
        }
      ],
      "source": [
        "import matplotlib.pyplot as plt\n",
        "arroyo = ds[ds[\"level5\"] == \"Arroyomolinos (Madrid)\"]\n",
        "arroyo[\"price\"].plot( kind = \"hist\" , alpha = 0.9)\n",
        "plt.title(\"Histograma\")\n",
        "plt.show()"
      ]
    },
    {
      "attachments": {},
      "cell_type": "markdown",
      "id": "impressed-combination",
      "metadata": {},
      "source": [
        "**TODO: Markdown**. Para escribir aquí, haz doble clic en esta celda, elimina este contenido y coloca lo que quieras escribir. Luego ejecuta la celda."
      ]
    },
    {
      "cell_type": "markdown",
      "id": "d2cc6075",
      "metadata": {},
      "source": [
        "Se puede concluir que los precios dentro de estas poblaciones obscilan y se mantienen en tendencia desde los 200000 hasta los 400000."
      ]
    },
    {
      "attachments": {},
      "cell_type": "markdown",
      "id": "actual-edinburgh",
      "metadata": {},
      "source": [
        "#### Ejercicio 09. ¿Son los precios promedios de \"Valdemorillo\" y \"Galapagar\" los mismos? (★★☆)\n",
        "\n",
        "Imprime ambos promedios y escribe una conclusión sobre ellos."
      ]
    },
    {
      "cell_type": "code",
      "execution_count": 11,
      "id": "numeric-commerce",
      "metadata": {},
      "outputs": [
        {
          "name": "stdout",
          "output_type": "stream",
          "text": [
            "363860\n",
            "360063\n",
            "Los promedios no son iguales\n"
          ]
        }
      ],
      "source": [
        "promedio_price_val = int(ds.loc[ds[\"level5\"]== \"Valdemorillo\", \"price\"].mean())\n",
        "print(promedio_price_val)\n",
        "promedio_price_gal = int(ds.loc[ds[\"level5\" ]== \"Galapagar\", \"price\"].mean())\n",
        "print(promedio_price_gal)\n",
        "\n",
        "if promedio_price_val == promedio_price_gal:\n",
        "    conclution = \"Los promedios son iguales\",\n",
        "else: \n",
        "    conclution = \"Los promedios no son iguales\"\n",
        "    print(conclution)"
      ]
    },
    {
      "attachments": {},
      "cell_type": "markdown",
      "id": "lonely-article",
      "metadata": {},
      "source": [
        "#### Ejercicio 10. ¿Son los promedios de precio por metro cuadrado (precio/m2) de \"Valdemorillo\" y \"Galapagar\" los mismos? (★★☆)\n",
        "\n",
        "Imprime ambos promedios de precio por metro cuadrado y escribe una conclusión sobre ellos.\n",
        "\n",
        "Pista: Crea una nueva columna llamada `pps` (*price per square* o precio por metro cuadrado) y luego analiza los valores."
      ]
    },
    {
      "cell_type": "code",
      "execution_count": 12,
      "id": "hourly-globe",
      "metadata": {},
      "outputs": [
        {
          "name": "stdout",
          "output_type": "stream",
          "text": [
            "1317 1606\n",
            "Los promedios no son iguales\n"
          ]
        }
      ],
      "source": [
        "ds[\"pps\"]= ds[\"price\"] / ds[\"surface\"]\n",
        "promedio_price_val2 = int(ds.loc[ds[\"level5\"] == \"Valdemorillo\" , \"pps\"].mean())\n",
        "promedio_price_gal2= int(ds.loc[ds[\"level5\"] == \"Galapagar\", \"pps\"].mean())\n",
        "print(promedio_price_val2 , promedio_price_gal2)\n",
        "\n",
        "if promedio_price_val2 == promedio_price_gal2:\n",
        "   conclution = \"los promedios son iguales\"\n",
        "else: \n",
        "   conclution = \"Los promedios no son iguales\"\n",
        "print(conclution)"
      ]
    },
    {
      "attachments": {},
      "cell_type": "markdown",
      "id": "pleasant-invite",
      "metadata": {},
      "source": [
        "#### Ejercicio 11. Analiza la relación entre la superficie y el precio de las casas. (★★☆)\n",
        "\n",
        "Pista: Puedes hacer un `scatter plot` y luego escribir una conclusión al respecto."
      ]
    },
    {
      "cell_type": "code",
      "execution_count": 14,
      "id": "common-drilling",
      "metadata": {},
      "outputs": [
        {
          "data": {
            "image/png": "[encoded data removed]",
            "text/plain": [
              "<Figure size 640x480 with 1 Axes>"
            ]
          },
          "metadata": {},
          "output_type": "display_data"
        }
      ],
      "source": [
        "import pandas as pd\n",
        "import matplotlib.pyplot as plt \n",
        "plt.scatter(ds[\"surface\"], ds[\"price\"], alpha= 0.9)\n",
        "plt.xlabel(\"surface\")\n",
        "plt.ylabel(\"price\")\n",
        "plt.title(\"relation entre surface y price\")\n",
        "plt.yscale(\"log\")\n",
        "plt.xscale(\"log\")\n",
        "plt.show()"
      ]
    },
    {
      "attachments": {},
      "cell_type": "markdown",
      "id": "ahead-liquid",
      "metadata": {},
      "source": [
        "**TODO: Markdown**. Para escribir aquí, haz doble clic en esta celda, elimina este contenido y coloca lo que quieras escribir. Luego ejecuta la celda."
      ]
    },
    {
      "attachments": {},
      "cell_type": "markdown",
      "id": "coordinate-sunrise",
      "metadata": {},
      "source": [
        "#### Ejercicio 12. ¿Cuántas agencia de bienes raíces contiene el dataset? (★★☆)\n",
        "\n",
        "Imprime el valor obtenido."
      ]
    },
    {
      "cell_type": "code",
      "execution_count": 15,
      "id": "valid-honolulu",
      "metadata": {},
      "outputs": [
        {
          "name": "stdout",
          "output_type": "stream",
          "text": [
            "1821\n"
          ]
        }
      ],
      "source": [
        "agen_num = ds[\"realEstate_name\"].nunique()\n",
        "print(agen_num)"
      ]
    },
    {
      "attachments": {},
      "cell_type": "markdown",
      "id": "binding-ebony",
      "metadata": {},
      "source": [
        "#### Ejercicio 13. ¿Cuál es la población (columna level5) que contiene la mayor cantidad de casas?(★★☆)\n",
        "\n",
        "Imprima la población y el número de casas."
      ]
    },
    {
      "cell_type": "code",
      "execution_count": 16,
      "id": "static-perry",
      "metadata": {},
      "outputs": [
        {
          "name": "stdout",
          "output_type": "stream",
          "text": [
            "level5\n",
            " Madrid Capital         6643\n",
            "Alcalá de Henares        525\n",
            "Las Rozas de Madrid      383\n",
            "Móstoles                 325\n",
            "Getafe                   290\n",
            "                        ... \n",
            "Fresno de Torote           1\n",
            "Pinilla del Valle          1\n",
            "Rascafría                  1\n",
            "La Hiruela                 1\n",
            "Montejo de la Sierra       1\n",
            "Name: count, Length: 168, dtype: int64\n",
            " Madrid Capital\n",
            "6643\n"
          ]
        }
      ],
      "source": [
        "more_house = ds[\"level5\"].value_counts()\n",
        "print(more_house)\n",
        "\n",
        "count_more_house = more_house.idxmax()\n",
        "print(count_more_house)\n",
        "print(more_house.max())"
      ]
    },
    {
      "attachments": {},
      "cell_type": "markdown",
      "id": "entire-classification",
      "metadata": {},
      "source": [
        "#### Ejercicio 14. Ahora vamos a trabajar con el \"cinturón sur\" de Madrid. Haz un subconjunto del DataFrame original que contenga las siguientes poblaciones (columna level5): \"Fuenlabrada\", \"Leganés\", \"Getafe\", \"Alcorcón\" (★★☆)\n",
        "\n",
        "Pista: Filtra el DataFrame original usando la columna `level5` y la función `isin`."
      ]
    },
    {
      "cell_type": "code",
      "execution_count": null,
      "id": "binary-input",
      "metadata": {},
      "outputs": [
        {
          "name": "stdout",
          "output_type": "stream",
          "text": [
            "       Unnamed: 0  id_realEstates  isNew  \\\n",
            "1               2       153867863  False   \n",
            "3               4       152776331  False   \n",
            "85             86       153152077  False   \n",
            "94             95       153995577  False   \n",
            "109           110       153586414  False   \n",
            "...           ...             ...    ...   \n",
            "15275       15276       153903887  False   \n",
            "15291       15292       151697757  False   \n",
            "15305       15306       153902389  False   \n",
            "15322       15323       153871864  False   \n",
            "15325       15326       153901467  False   \n",
            "\n",
            "                                 realEstate_name  phone_realEstate  \\\n",
            "1              tecnocasa fuenlabrada ferrocarril       916358736.0   \n",
            "3              tecnocasa fuenlabrada ferrocarril       916358736.0   \n",
            "85                       sinergical inmobiliaria               NaN   \n",
            "94                               viviendas365com       911226014.0   \n",
            "109              area uno asesores inmobiliarios       912664081.0   \n",
            "...                                          ...               ...   \n",
            "15275  aliseda servicios de gestion inmobiliaria       911368198.0   \n",
            "15291                                    unipiso       912788631.0   \n",
            "15305                             jadein ferrero       914871639.0   \n",
            "15322                          gestion comercial       911220662.0   \n",
            "15325                              montehogar 68       911790675.0   \n",
            "\n",
            "                                            url_inmueble  rooms  bathrooms  \\\n",
            "1      https://www.fotocasa.es/es/comprar/vivienda/ma...    3.0        1.0   \n",
            "3      https://www.fotocasa.es/es/comprar/vivienda/ma...    3.0        1.0   \n",
            "85     https://www.fotocasa.es/es/comprar/vivienda/le...    1.0        1.0   \n",
            "94     https://www.fotocasa.es/es/comprar/vivienda/le...    3.0        2.0   \n",
            "109    https://www.fotocasa.es/es/comprar/vivienda/ma...    3.0        3.0   \n",
            "...                                                  ...    ...        ...   \n",
            "15275  https://www.fotocasa.es/es/comprar/vivienda/al...    3.0        1.0   \n",
            "15291  https://www.fotocasa.es/es/comprar/vivienda/al...    3.0        2.0   \n",
            "15305  https://www.fotocasa.es/es/comprar/vivienda/ma...    3.0        2.0   \n",
            "15322  https://www.fotocasa.es/es/comprar/vivienda/ma...    3.0        1.0   \n",
            "15325  https://www.fotocasa.es/es/comprar/vivienda/ma...    2.0        2.0   \n",
            "\n",
            "       surface   price  ... level5Id level6Id level7Id level8Id accuracy  \\\n",
            "1          NaN   89000  ...        0        0        0        0        1   \n",
            "3         86.0   89000  ...        0        0        0        0        0   \n",
            "85        50.0  107000  ...        0        0        0        0        1   \n",
            "94       120.0  320000  ...        0        0        0        0        0   \n",
            "109      142.0  425000  ...        0        0        0        0        0   \n",
            "...        ...     ...  ...      ...      ...      ...      ...      ...   \n",
            "15275     78.0  138000  ...        0        0        0        0        1   \n",
            "15291    110.0  279000  ...        0        0        0        0        0   \n",
            "15305     85.0  170000  ...        0        0        0        0        0   \n",
            "15322     91.0  112000  ...        0        0        0        0        0   \n",
            "15325     99.0  215000  ...        0        0        0        0        1   \n",
            "\n",
            "               latitude          longitude zipCode customZone          pps  \n",
            "1              40,28674           -3,79351     NaN        NaN          NaN  \n",
            "3      40,2853785786438  -3,79508142135624     NaN        NaN  1034.883721  \n",
            "85             40,35059           -3,82693     NaN        NaN  2140.000000  \n",
            "94             40,31933           -3,77574     NaN        NaN  2666.666667  \n",
            "109          40,3313411         -3,8313868     NaN        NaN  2992.957746  \n",
            "...                 ...                ...     ...        ...          ...  \n",
            "15275          40,31381           -3,83733     NaN        NaN  1769.230769  \n",
            "15291        40,3259051           -3,76318     NaN        NaN  2536.363636  \n",
            "15305        40,2882193         -3,8098617     NaN        NaN  2000.000000  \n",
            "15322          40,28282           -3,78892     NaN        NaN  1230.769231  \n",
            "15325          40,28062           -3,79869     NaN        NaN  2171.717172  \n",
            "\n",
            "[907 rows x 38 columns]\n"
          ]
        }
      ],
      "source": [
        "cinturon_sur = [\"Fuenlabrada\",\"Leganés\",\"Getafe\", \"Alcorcón\"]\n",
        "sub_cinturon_sur = ds[ds[\"level5\"].isin(cinturon_sur)]\n",
        "print(sub_cinturon_sur)\n"
      ]
    },
    {
      "attachments": {},
      "cell_type": "markdown",
      "id": "severe-fisher",
      "metadata": {},
      "source": [
        "#### Ejercicio 15. Traza un gráfico de barras de la mediana de los precios y explica lo que observas (debes usar el subconjunto obtenido del Ejercicio 14) (★★★)\n",
        "\n",
        "Imprima un gráfico de barras de la mediana de precios y escriba en la celda Markdown un breve análisis sobre el gráfico."
      ]
    },
    {
      "cell_type": "code",
      "execution_count": null,
      "id": "lyric-bunch",
      "metadata": {},
      "outputs": [
        {
          "name": "stdout",
          "output_type": "stream",
          "text": [
            "level5\n",
            "Alcorcón       179500.0\n",
            "Fuenlabrada    155000.0\n",
            "Getafe         285305.0\n",
            "Leganés        169950.0\n",
            "Name: price, dtype: float64\n"
          ]
        },
        {
          "data": {
            "image/png": "[encoded data removed]",
            "text/plain": [
              "<Figure size 640x480 with 1 Axes>"
            ]
          },
          "metadata": {},
          "output_type": "display_data"
        }
      ],
      "source": [
        "import pandas as pd\n",
        "import matplotlib.pyplot as plt  \n",
        "med_price = sub_cinturon_sur.groupby(\"level5\")[\"price\"].median()\n",
        "\n",
        "print(med_price)\n",
        "\n",
        "med_price.plot(kind=\"bar\", palette =, alpha= 0.6)\n",
        "plt.xlabel(\"address\")\n",
        "plt.ylabel(\"Median of price\")\n",
        "plt.title(\"Median of prices for office\")\n",
        "plt.show()"
      ]
    },
    {
      "attachments": {},
      "cell_type": "markdown",
      "id": "sublime-newspaper",
      "metadata": {},
      "source": [
        "**TODO: Markdown**. Para escribir aquí, haz doble clic en esta celda, elimina este contenido y coloca lo que quieras escribir. Luego ejecuta la celda."
      ]
    },
    {
      "attachments": {},
      "cell_type": "markdown",
      "id": "speaking-diamond",
      "metadata": {},
      "source": [
        "#### Ejercicio 16. Calcula la media y la varianza de muestra para las siguientes variables: precio, habitaciones, superficie y baños (debes usar el subconjunto obtenido del Ejercicio 14) (★★★)\n",
        "\n",
        "Imprime ambos valores por cada variable."
      ]
    },
    {
      "cell_type": "code",
      "execution_count": 21,
      "id": "random-feeling",
      "metadata": {},
      "outputs": [
        {
          "name": "stdout",
          "output_type": "stream",
          "text": [
            "['price', 'rooms', 'surface', 'bathrooms']\n",
            "223094\n",
            "14921367508\n",
            "\n",
            "['price', 'rooms', 'surface', 'bathrooms']\n",
            "3\n",
            "0\n",
            "\n",
            "['price', 'rooms', 'surface', 'bathrooms']\n",
            "111\n",
            "4263\n",
            "\n",
            "['price', 'rooms', 'surface', 'bathrooms']\n",
            "1\n",
            "0\n",
            "\n"
          ]
        }
      ],
      "source": [
        "sub_cinturon_sur\n",
        "variables = [\"price\", \"rooms\", \"surface\", \"bathrooms\"]\n",
        "for var in variables:\n",
        "    media = int(sub_cinturon_sur[var].mean())\n",
        "    variance = int(sub_cinturon_sur[var].var())\n",
        "    print(variables)\n",
        "    print(media)\n",
        "    print(variance)\n",
        "    print()"
      ]
    },
    {
      "attachments": {},
      "cell_type": "markdown",
      "id": "revolutionary-matrix",
      "metadata": {},
      "source": [
        "#### Ejercicio 17. ¿Cuál es la casa más cara de cada población? Debes usar el subset obtenido en la pregunta 14 (★★☆)\n",
        "\n",
        "Imprime tanto la dirección como el precio de la casa seleccionada de cada población. Puedes imprimir un DataFrame o una sola línea para cada población."
      ]
    },
    {
      "cell_type": "code",
      "execution_count": 22,
      "id": "fifteen-browse",
      "metadata": {},
      "outputs": [
        {
          "name": "stdout",
          "output_type": "stream",
          "text": [
            "1050000\n",
            "            level5                                address    price\n",
            "5585      Alcorcón                               Alcorcón   950000\n",
            "11561  Fuenlabrada  Calle de Paulo Freire, 5, Fuenlabrada   490000\n",
            "2881        Getafe                                 Getafe  1050000\n",
            "10412      Leganés           Avenida Reina Sofía, Leganés   650000\n"
          ]
        }
      ],
      "source": [
        "sub_cinturon_sur\n",
        "house_hight_cinturon = sub_cinturon_sur.price.max()\n",
        "print(house_hight_cinturon)\n",
        "\n",
        "house_for_poblation = sub_cinturon_sur.loc[sub_cinturon_sur.groupby(\"level5\")[\"price\"].idxmax()]\n",
        "print(house_for_poblation[[\"level5\", \"address\", \"price\"]])"
      ]
    },
    {
      "attachments": {},
      "cell_type": "markdown",
      "id": "activated-knight",
      "metadata": {},
      "source": [
        "#### Ejercicio 18. Normaliza la variable de precios para cada población y traza los 4 histogramas en el mismo gráfico (debes usar el subconjunto obtenido en la pregunta 14) (★★★)\n",
        "\n",
        "Para el método de normalización, puedes usar el que consideres adecuado, no hay una única respuesta correcta para esta pregunta. Imprime el gráfico y escribe en la celda de Markdown un breve análisis sobre el gráfico.\n",
        "\n",
        "Pista: Puedes ayudarte revisando la demostración multihist de Matplotlib."
      ]
    },
    {
      "cell_type": "code",
      "execution_count": 23,
      "id": "civic-meditation",
      "metadata": {},
      "outputs": [
        {
          "name": "stdout",
          "output_type": "stream",
          "text": [
            "StandardScaler()\n",
            "        price   surface\n",
            "0   -1.098364       NaN\n",
            "1   -1.098364 -0.394667\n",
            "2   -0.950926 -0.946386\n",
            "3    0.793750  0.126402\n",
            "4    1.653802  0.463564\n",
            "..        ...       ...\n",
            "902 -0.697006 -0.517271\n",
            "903  0.457920 -0.026854\n",
            "904 -0.434895 -0.409992\n",
            "905 -0.909971 -0.318039\n",
            "906 -0.066302 -0.195435\n",
            "\n",
            "[907 rows x 2 columns]\n"
          ]
        },
        {
          "data": {
            "image/png": "[encoded data removed]",
            "text/plain": [
              "<Figure size 1000x700 with 1 Axes>"
            ]
          },
          "metadata": {},
          "output_type": "display_data"
        }
      ],
      "source": [
        "import numpy as np\n",
        "import pandas as pd\n",
        "import matplotlib.pyplot as plt\n",
        "from sklearn.preprocessing import StandardScaler\n",
        "\n",
        "scaler = StandardScaler()\n",
        "data_normal= pd.DataFrame(scaler.fit_transform(sub_cinturon_sur[[\"price\",\"surface\"]]), columns=[\"price\",\"surface\"])\n",
        "print(scaler)\n",
        "print(data_normal)\n",
        "\n",
        "plt.figure(figsize=(10.0, 7.0))\n",
        "for column in data_normal.columns:\n",
        "    plt.hist(data_normal[column], bins=10, alpha=0.5, label=column)\n",
        "\n",
        "plt.title(\"Histogram Normalised\")\n",
        "plt.xlabel(\"Value Normalised\")\n",
        "plt.ylabel(\"Frequency\")\n",
        "plt.legend(loc=\"upper left\")\n",
        "plt.show()"
      ]
    },
    {
      "attachments": {},
      "cell_type": "markdown",
      "id": "precise-heavy",
      "metadata": {},
      "source": [
        "**TODO: Markdown**. Para escribir aquí, haz doble clic en esta celda, elimina este contenido y coloca lo que quieras escribir. Luego ejecuta la celda."
      ]
    },
    {
      "attachments": {},
      "cell_type": "markdown",
      "id": "patent-jonathan",
      "metadata": {},
      "source": [
        "#### Ejercicio 19. ¿Qué puedes decir sobre el precio por metro cuadrado (precio/m2) entre los municipios de 'Getafe' y 'Alcorcón'? Debes usar el subconjunto obtenido en la pregunta 14 (★★☆)\n",
        "\n",
        "Pista: Crea una nueva columna llamada `pps` (price per square en inglés) y luego analiza los valores"
      ]
    },
    {
      "cell_type": "code",
      "execution_count": 25,
      "id": "initial-liverpool",
      "metadata": {},
      "outputs": [
        {
          "name": "stderr",
          "output_type": "stream",
          "text": [
            "/tmp/ipykernel_2605/2964942941.py:2: SettingWithCopyWarning: \n",
            "A value is trying to be set on a copy of a slice from a DataFrame.\n",
            "Try using .loc[row_indexer,col_indexer] = value instead\n",
            "\n",
            "See the caveats in the documentation: https://pandas.pydata.org/pandas-docs/stable/user_guide/indexing.html#returning-a-view-versus-a-copy\n",
            "  sub_cinturon_sur[\"pps\"]= sub_cinturon_sur[\"price\"] / sub_cinturon_sur[\"surface\"]\n"
          ]
        },
        {
          "data": {
            "text/plain": [
              "(2066, 2239)"
            ]
          },
          "execution_count": 25,
          "metadata": {},
          "output_type": "execute_result"
        }
      ],
      "source": [
        "sub_cinturon_sur\n",
        "sub_cinturon_sur[\"pps\"]= sub_cinturon_sur[\"price\"] / sub_cinturon_sur[\"surface\"]\n",
        "sub_cinturon_sur\n",
        "\n",
        "promedio_price_getafe = int(sub_cinturon_sur.loc[sub_cinturon_sur [\"level5\"]== \"Getafe\" , \"pps\"].mean())\n",
        "promedio_price_alcorcon= int(sub_cinturon_sur.loc[sub_cinturon_sur [\"level5\"]== \"Alcorcón\", \"pps\"].mean())\n",
        "promedio_price_getafe , promedio_price_alcorcon"
      ]
    },
    {
      "attachments": {},
      "cell_type": "markdown",
      "id": "enhanced-moscow",
      "metadata": {},
      "source": [
        "#### Ejercicio 20. Realiza el mismo gráfico para 4 poblaciones diferentes (columna level5) y colócalos en el mismo gráfico. Debes usar el subconjunto obtenido en la pregunta 14 (★★☆) \n",
        "Pista: Haz un diagrama de dispersión de cada población usando subgráficos (subplots)."
      ]
    },
    {
      "cell_type": "code",
      "execution_count": 26,
      "id": "accepting-airfare",
      "metadata": {},
      "outputs": [
        {
          "data": {
            "image/png": "[encoded data removed]",
            "text/plain": [
              "<Figure size 640x480 with 4 Axes>"
            ]
          },
          "metadata": {},
          "output_type": "display_data"
        }
      ],
      "source": [
        "import matplotlib.pyplot as plt\n",
        "\n",
        "fixs, axs= plt.subplots(2,2)\n",
        "axs[0,0].scatter(sub_cinturon_sur[sub_cinturon_sur[\"level5\"] == \"Fuenlabrada\"][\"surface\"], sub_cinturon_sur[sub_cinturon_sur[\"level5\"]== \"Fuenlabrada\"][\"price\"], s=50, color=\"blue\", alpha=0.9 ,label= \"Fuenlabrada\" , marker= \"+\")\n",
        "axs[0,0].set_title(\"Diagrama Price/Surface\")\n",
        "axs[0,0].set_xlabel(\"Surface\")\n",
        "axs[0,0].legend(loc=\"upper left\")\n",
        "axs[0,0].set_ylabel(\"price\")\n",
        "\n",
        "axs[0,1].scatter(sub_cinturon_sur[sub_cinturon_sur[\"level5\"] == \"Leganés\"][\"surface\"], sub_cinturon_sur[sub_cinturon_sur[\"level5\"]==\"Leganés\"][\"price\"], s=50, color=\"yellow\", alpha=0.5, label= \"Leganés\", marker= \"+\")\n",
        "axs[0,1].set_title(\"Diagrama Price/m2\")\n",
        "axs[0,1].set_xlabel(\"Surface\")\n",
        "axs[0,1].legend(loc=\"upper left\")\n",
        "axs[0,1].set_ylabel(\"price\")\n",
        "\n",
        "axs[1,0].scatter(sub_cinturon_sur[sub_cinturon_sur[\"level5\"] ==\"Alcorcón\"][\"surface\"], sub_cinturon_sur[sub_cinturon_sur[\"level5\"]==\"Alcorcón\"][\"price\"], s=50, color=\"red\", alpha=0.5, label=\"Alcorcón\", marker= \"+\")\n",
        "axs[1,0].set_title(\"Diagrama Price/m2\")\n",
        "axs[1,0].set_xlabel(\"Surface\")\n",
        "axs[1,0].legend(loc=\"upper left\")\n",
        "axs[1,0].set_ylabel(\"price\")\n",
        "\n",
        "axs[1,1].scatter(sub_cinturon_sur[sub_cinturon_sur[\"level5\"]==\"Getafe\"][\"surface\"], sub_cinturon_sur[sub_cinturon_sur[\"level5\"]==\"Getafe\"][\"price\"], s=50, color=\"orange\", alpha=0.5, label=\"Getafe\", marker= \"+\")\n",
        "axs[1,1].set_title(\"Diagrama Price/m2\")\n",
        "axs[1,1].set_xlabel(\"Surface\")\n",
        "axs[1,1].set_ylabel(\"price\")\n",
        "axs[1,1].legend(loc=\"upper left\")\n",
        "plt.tight_layout()\n",
        "plt.show()"
      ]
    },
    {
      "attachments": {},
      "cell_type": "markdown",
      "id": "blocked-effects",
      "metadata": {},
      "source": [
        "#### Ejercicio 21. Realiza un trazado de las coordenadas (columnas latitud y longitud) del cinturón sur de Madrid por color de cada población (debes usar el subconjunto obtenido del Ejercicio 14) (★★★★)\n",
        "\n",
        "Ejecuta la siguiente celda y luego comienza a codear en la siguiente. Debes implementar un código simple que transforme las columnas de coordenadas en un diccionario de Python (agrega más información si es necesario) y agrégala al mapa."
      ]
    },
    {
      "cell_type": "code",
      "execution_count": 27,
      "id": "headed-privacy",
      "metadata": {},
      "outputs": [
        {
          "data": {
            "application/vnd.jupyter.widget-view+json": {
              "model_id": "d7eaa46c05a240db89dba3cc6e26c08c",
              "version_major": 2,
              "version_minor": 0
            },
            "text/plain": [
              "Map(center=[40.35, -3.8], controls=(ZoomControl(options=['position', 'zoom_in_text', 'zoom_in_title', 'zoom_ou…"
            ]
          },
          "execution_count": 27,
          "metadata": {},
          "output_type": "execute_result"
        }
      ],
      "source": [
        "from ipyleaflet import Map, basemaps\n",
        "\n",
        "# Mapa centrado en Madrid\n",
        "map = Map(center = (40.35, -3.8), zoom = 11.5, min_zoom = 1, max_zoom = 20, \n",
        "    basemap=basemaps.OpenStreetMap.Mapnik)\n",
        "map"
      ]
    },
    {
      "cell_type": "code",
      "execution_count": 50,
      "id": "present-mistress",
      "metadata": {},
      "outputs": [
        {
          "name": "stdout",
          "output_type": "stream",
          "text": [
            "['Fuenlabrada' 'Alcorcón' 'Leganés' 'Getafe']\n",
            "Index(['Unnamed: 0', 'id_realEstates', 'isNew', 'realEstate_name',\n",
            "       'phone_realEstate', 'url_inmueble', 'rooms', 'bathrooms', 'surface',\n",
            "       'price', 'date', 'description', 'address', 'country', 'level1',\n",
            "       'level2', 'level3', 'level4', 'level5', 'level6', 'level7', 'level8',\n",
            "       'upperLevel', 'countryId', 'level1Id', 'level2Id', 'level3Id',\n",
            "       'level4Id', 'level5Id', 'level6Id', 'level7Id', 'level8Id', 'accuracy',\n",
            "       'latitude', 'longitude', 'zipCode', 'customZone', 'pps'],\n",
            "      dtype='object')\n",
            "{'Fuenlabrada': {'latitude': 40.28062, 'longitude': -3.79869}, 'Alcorcón': {'latitude': 40.344393, 'longitude': -3.839799}, 'Leganés': {'latitude': 40.3259051, 'longitude': -3.76318}, 'Getafe': {'latitude': 40.31667, 'longitude': -3.74072}}\n"
          ]
        },
        {
          "name": "stderr",
          "output_type": "stream",
          "text": [
            "/tmp/ipykernel_2605/3273012393.py:8: SettingWithCopyWarning: \n",
            "A value is trying to be set on a copy of a slice from a DataFrame.\n",
            "Try using .loc[row_indexer,col_indexer] = value instead\n",
            "\n",
            "See the caveats in the documentation: https://pandas.pydata.org/pandas-docs/stable/user_guide/indexing.html#returning-a-view-versus-a-copy\n",
            "  sub_cinturon_sur[\"latitude\"]= sub_cinturon_sur[\"latitude\"].astype(str).str.replace(\",\" , \".\").astype(float)\n",
            "/tmp/ipykernel_2605/3273012393.py:9: SettingWithCopyWarning: \n",
            "A value is trying to be set on a copy of a slice from a DataFrame.\n",
            "Try using .loc[row_indexer,col_indexer] = value instead\n",
            "\n",
            "See the caveats in the documentation: https://pandas.pydata.org/pandas-docs/stable/user_guide/indexing.html#returning-a-view-versus-a-copy\n",
            "  sub_cinturon_sur[\"longitude\"]= sub_cinturon_sur[\"longitude\"].astype(str).str.replace(\",\" , \".\").astype(float)\n",
            "/tmp/ipykernel_2605/3273012393.py:13: UserWarning: DataFrame columns are not unique, some columns will be omitted.\n",
            "  coordenadas_diccionario = sub_cinturon_sur.set_index(\"level5\")[['latitude', 'longitude']].T.to_dict()\n"
          ]
        },
        {
          "data": {
            "application/vnd.jupyter.widget-view+json": {
              "model_id": "c3a42f3c0b0e4a1d8d791ae2f6e1ca7f",
              "version_major": 2,
              "version_minor": 0
            },
            "text/plain": [
              "Map(center=[40.35, -3.8], controls=(ZoomControl(options=['position', 'zoom_in_text', 'zoom_in_title', 'zoom_ou…"
            ]
          },
          "execution_count": 50,
          "metadata": {},
          "output_type": "execute_result"
        }
      ],
      "source": [
        "## Aquí: traza la coordenadas de los estados\n",
        "\n",
        "## PON TU CÓDIGO AQUÍ:\n",
        "from ipyleaflet import Map, basemaps, Marker, Popup, AwesomeIcon\n",
        "poblation_sur = sub_cinturon_sur[\"level5\"].unique()\n",
        "print(poblation_sur)\n",
        "\n",
        "sub_cinturon_sur[\"latitude\"]= sub_cinturon_sur[\"latitude\"].astype(str).str.replace(\",\" , \".\").astype(float)\n",
        "sub_cinturon_sur[\"longitude\"]= sub_cinturon_sur[\"longitude\"].astype(str).str.replace(\",\" , \".\").astype(float)\n",
        "print(sub_cinturon_sur.columns)\n",
        "sub_cinturon_sur= sub_cinturon_sur.loc[:, ~sub_cinturon_sur.columns.duplicated() ]\n",
        "\n",
        "coordenadas_diccionario = sub_cinturon_sur.set_index(\"level5\")[['latitude', 'longitude']].T.to_dict()\n",
        "print(coordenadas_diccionario)\n",
        "map = Map(center = (40.35, -3.8), zoom = 11.5, min_zoom = 1, max_zoom = 20, \n",
        "    basemap=basemaps.OpenStreetMap.Mapnik)\n",
        "for poblacion, coords in coordenadas_diccionario.items():\n",
        "    marker = Marker(location=(coords[\"latitude\"], coords[\"longitude\"]), draggable=False, title=poblacion)\n",
        "    map.add_layer(marker)\n",
        "\n",
        "map\n"
      ]
    }
  ],
  "metadata": {
    "kernelspec": {
      "display_name": "Python 3",
      "language": "python",
      "name": "python3"
    },
    "language_info": {
      "codemirror_mode": {
        "name": "ipython",
        "version": 3
      },
      "file_extension": ".py",
      "mimetype": "text/x-python",
      "name": "python",
      "nbconvert_exporter": "python",
      "pygments_lexer": "ipython3",
      "version": "3.11.4"
    }
  },
  "nbformat": 4,
  "nbformat_minor": 5
}
